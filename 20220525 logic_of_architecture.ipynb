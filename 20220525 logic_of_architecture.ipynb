{
 "cells": [
  {
   "cell_type": "code",
   "execution_count": 1,
   "id": "7e71df30",
   "metadata": {},
   "outputs": [],
   "source": [
    "import os\n",
    "import numpy as np\n",
    "import matplotlib.pyplot as plt\n",
    "import pandas as pd"
   ]
  },
  {
   "cell_type": "code",
   "execution_count": 2,
   "id": "5c294038",
   "metadata": {},
   "outputs": [
    {
     "name": "stdout",
     "output_type": "stream",
     "text": [
      "{'거실': 0, '알': 1, '안': 2, '침': 3, '주방': 4, '공': 5, '부': 6, '1': 7, '2': 8, '3': 9, '4': 10, '파우더': 11, '팬트리': 12, '세탁실': 13, '드레스룸': 14, '욕실': 15, '발코니': 16, '대피공간': 17, '실외기실': 18, '현관': 19, '붙박이장': 20, '가구': 21, '창호': 22, '천장': 23, '벽': 24, '문': 25, '바닥': 26, '전등': 27, '마감판': 28, '콘센트': 29, '타일': 30, '틀': 31, '기타': 32}\n",
      "{'도배': 33, '도장': 34, '코킹': 35, '석고': 36, '실링': 37}\n",
      "{'들뜸': 38, '마감': 39, '이격': 40, '파손': 41, '유격': 42, '과다': 43, '미흡': 44, '확인': 45, '틈새': 46, '찍힘': 47, '태움': 48, '오염': 49, '수직수평': 50, '미시공': 51, '잠금': 52, '작동': 53, '스크레치': 54, '이음불량': 55, '면불량': 56, '누락': 57, '고정': 58, '개폐': 59, '간섭': 60, '단차': 61, '줄눈': 62, '불량': 63, '세부위치': 64}\n"
     ]
    }
   ],
   "source": [
    "components = ['거실', '알', '안', '침', '주방', '공', '부', '1', '2', '3', '4', '파우더', '팬트리', '세탁실', '드레스룸', '욕실', '발코니', '대피공간', '실외기실', '현관', '붙박이장', '가구', '창호', '천장', '벽', '문', '바닥', '전등', '마감판', '콘센트', '타일', '틀', '기타', '도배', '도장', '코킹', '석고', '실링', '들뜸', '마감', '이격', '파손', '유격', '과다', '미흡', '확인', '틈새', '찍힘', '태움', '오염', '수직수평', '미시공', '잠금', '작동', '스크레치', '이음불량', '면불량', '누락', '고정', '개폐', '간섭', '단차', '줄눈', '불량', '세부위치']\n",
    "\n",
    "loc, obj, typ = {}, {}, {}\n",
    "for i, component in enumerate(components):\n",
    "    if i < 33:\n",
    "        loc[component] = i\n",
    "    elif i < 38:\n",
    "        obj[component] = i\n",
    "    else:\n",
    "        typ[component] = i\n",
    "        \n",
    "print(loc)\n",
    "print(obj)\n",
    "print(typ)"
   ]
  },
  {
   "cell_type": "code",
   "execution_count": 3,
   "id": "37f4f6c8",
   "metadata": {},
   "outputs": [],
   "source": [
    "practice = ['침', '도배', '안']\n",
    "# for item in practice:\n",
    "#     if item in loc.keys():\n",
    "#         print(item, 'is a location')\n",
    "#     elif item in obj.keys():\n",
    "#         print(item, 'is an object')\n",
    "#     else:\n",
    "#         print(item, 'is a type')"
   ]
  },
  {
   "cell_type": "code",
   "execution_count": 4,
   "id": "bf68a7a3",
   "metadata": {},
   "outputs": [
    {
     "name": "stdout",
     "output_type": "stream",
     "text": [
      "2 {3: '침', 2: '안'}\n",
      "1 {33: '도배'}\n",
      "0 {}\n"
     ]
    }
   ],
   "source": [
    "new_loc, new_obj, new_typ = {}, {}, {}\n",
    "\n",
    "for item in practice:\n",
    "    if item in loc.keys():\n",
    "        new_loc[loc[item]] = item\n",
    "    elif item in obj.keys():\n",
    "        new_obj[obj[item]] = item\n",
    "    else:\n",
    "        new_typ[typ[item]] = item\n",
    "        \n",
    "print(len(new_loc), new_loc)\n",
    "print(len(new_obj), new_obj)\n",
    "print(len(new_typ), new_typ)"
   ]
  },
  {
   "cell_type": "code",
   "execution_count": 17,
   "id": "1a42b9b6",
   "metadata": {},
   "outputs": [],
   "source": [
    "def mainModule(detected_words):\n",
    "    new_loc, new_obj, new_typ = {}, {}, {}\n",
    "    \n",
    "    for item in detected_words:\n",
    "        if item == '세부위치':\n",
    "            break\n",
    "        elif item == '알':\n",
    "            new_loc[loc[item]] = '알파룸'\n",
    "        elif item == '안':\n",
    "            new_loc[loc[item]] = '안방'\n",
    "        elif item == '침':\n",
    "            new_loc[loc[item]] = '침실'\n",
    "        elif item == '공':\n",
    "            new_loc[loc[item]] = '공공'\n",
    "        elif item == '부':\n",
    "            new_loc[loc[item]] = '부부'\n",
    "        elif item in loc.keys():\n",
    "            new_loc[loc[item]] = item\n",
    "        elif item in obj.keys():\n",
    "            new_obj[obj[item]] = item\n",
    "        else:\n",
    "            new_typ[typ[item]] = item\n",
    "            \n",
    "    if len(new_loc) == 0 and len(new_obj) == 0 and len(new_typ) == 0:\n",
    "        print('하자가 없다.')\n",
    "    else:\n",
    "        new_loc = sortDict(new_loc)\n",
    "        new_obj = sortDict(new_obj)\n",
    "        new_typ = sortDict(new_typ)\n",
    "        \n",
    "        if '침실' not in new_loc.values():\n",
    "            if '1' in new_loc.values():\n",
    "                new_loc[7] = '침실 1'\n",
    "            elif '2' in new_loc.values():\n",
    "                new_loc[8] = '침실 2'\n",
    "            elif '3' in new_loc.values():\n",
    "                new_loc[9] = '침실 3'  \n",
    "            elif '4' in new_loc.values():\n",
    "                new_loc[10] = '침실 4'\n",
    "            elif '안방' in new_loc.values():\n",
    "                new_loc[2] = '안방 침실'\n",
    "            elif '알파룸' in new_loc.values():\n",
    "                new_loc[1] = '알파룸 침실'\n",
    "\n",
    "        str_typ = Type(new_typ)\n",
    "        str_loc, ui, str_loc2, ee = Location(new_loc)\n",
    "        str_obj, ee, ui = Object(new_obj, str_loc2, ui, ee)\n",
    "        \n",
    "        result = f'{str_loc}{ui}{str_loc2}{str_obj}{ee}{str_typ}하자가 있다.'\n",
    "        print(result)\n",
    "\n",
    "\n",
    "def sortDict(orgi_dict):\n",
    "    new_dict={f:orgi_dict[f] for f in sorted(orgi_dict.keys())}\n",
    "    return new_dict\n",
    "\n",
    "\n",
    "def createStrLoc12(new_loc):\n",
    "    if len(new_loc) == 0:\n",
    "        str_loc, str_loc2 = '', ''\n",
    "        \n",
    "    elif len(new_loc) == 1:\n",
    "        str_loc = str(new_loc.values()[0])\n",
    "        str_loc2 = ''\n",
    "        \n",
    "    elif len(new_loc) == 2:\n",
    "        str_loc = f'{list(new_loc.values())[0]} {list(new_loc.values())[1]}'\n",
    "        str_loc2 = ''\n",
    "        \n",
    "    else:\n",
    "        str_loc = f'{list(new_loc.values())[0]} {list(new_loc.values())[1]}'\n",
    "        str_loc2 = ''\n",
    "        for str_value in list(new_loc.values())[2:]:\n",
    "            str_loc2 = str_loc2 + str_value + ' '\n",
    "        str_loc2 = str_loc2[:-1]\n",
    "        \n",
    "    return str_loc, str_loc2\n",
    "\n",
    "\n",
    "def Type(new_typ):\n",
    "    if len(new_typ) == 0:\n",
    "        str_typ = ''\n",
    "        \n",
    "    elif len(new_typ) == 1:\n",
    "        if '확인' in new_typ.values():\n",
    "            str_typ = '확인이 필요한 '\n",
    "        else:\n",
    "            str_typ = str(list(new_typ.values())[0]) + ' '    \n",
    "        \n",
    "    else:\n",
    "        if '확인' in new_typ.values():\n",
    "            str_typ = '확인이 필요한 '\n",
    "            new_typ.pop(45)\n",
    "        else:\n",
    "            str_typ = ''\n",
    "        for str_value in list(new_typ.values()):\n",
    "            str_typ = str_typ + str_value + ' '\n",
    "            \n",
    "    return str_typ\n",
    "\n",
    "\n",
    "def Location(new_loc):    \n",
    "    if len(new_loc) == 0:\n",
    "        str_loc, str_loc2 = createStrLoc12(new_loc)\n",
    "        ui, ee = '', ''\n",
    "        \n",
    "    elif len(new_loc) < 2:\n",
    "        str_loc, str_loc2 = createStrLoc12(new_loc)\n",
    "        ui, ee = '', '에 '\n",
    "        \n",
    "    else:\n",
    "        str_loc, str_loc2 = createStrLoc12(new_loc)\n",
    "        ui, ee = '의 ', '에 '\n",
    "        \n",
    "    return str_loc, ui, str_loc2, ee\n",
    "\n",
    "\n",
    "def Object(new_obj, str_loc2, ui, ee):\n",
    "    if len(new_obj) == 0:\n",
    "        str_obj = ''\n",
    "        ee = ee\n",
    "        ui = ''\n",
    "    else:\n",
    "        str_obj = ''\n",
    "        for str_value in list(new_obj.values()):\n",
    "            str_obj = str_obj + str_value + ' '\n",
    "        str_obj = str_obj[:-1]\n",
    "        ee = '에 '\n",
    "        ui = ui\n",
    "        if len(str_loc2) != 0:\n",
    "            str_obj=' '+str_obj\n",
    "                \n",
    "    return str_obj, ee, ui"
   ]
  },
  {
   "cell_type": "code",
   "execution_count": 23,
   "id": "78a5e72c",
   "metadata": {},
   "outputs": [
    {
     "name": "stdout",
     "output_type": "stream",
     "text": [
      "침실 2의 도배에 확인이 필요한 간섭 하자가 있다.\n"
     ]
    }
   ],
   "source": [
    "practice = ['2',  '침', '도배', '확인', '간섭']\n",
    "mainModule(practice)"
   ]
  },
  {
   "cell_type": "code",
   "execution_count": 24,
   "id": "4b4fcef3",
   "metadata": {},
   "outputs": [
    {
     "name": "stdout",
     "output_type": "stream",
     "text": [
      "침실 2 천장의 도배에 확인이 필요한 불량 하자가 있다.\n"
     ]
    }
   ],
   "source": [
    "practice = ['2', '천장', '도배', '확인', '불량']\n",
    "mainModule(practice)"
   ]
  },
  {
   "cell_type": "code",
   "execution_count": 25,
   "id": "ffc45c66",
   "metadata": {},
   "outputs": [
    {
     "name": "stdout",
     "output_type": "stream",
     "text": [
      "침실 2의 천장 도배에 불량 하자가 있다.\n"
     ]
    }
   ],
   "source": [
    "practice = ['2', '침', '천장', '도배', '불량']\n",
    "mainModule(practice)"
   ]
  },
  {
   "cell_type": "code",
   "execution_count": 26,
   "id": "9c24b342",
   "metadata": {},
   "outputs": [
    {
     "name": "stdout",
     "output_type": "stream",
     "text": [
      "도배에 불량 하자가 있다.\n"
     ]
    }
   ],
   "source": [
    "practice = ['도배', '불량']\n",
    "mainModule(practice)"
   ]
  },
  {
   "cell_type": "code",
   "execution_count": null,
   "id": "783ec185",
   "metadata": {},
   "outputs": [],
   "source": [
    "'2', 'living', 'papering', 'check', 'interference'\n",
    "'2', 'ceiling', 'papering', 'check', 'inferior'\n",
    "'2', 'living', 'ceiling', 'papering', 'inferior'\n",
    "'papering', 'inferior'"
   ]
  }
 ],
 "metadata": {
  "kernelspec": {
   "display_name": "Python 3 (ipykernel)",
   "language": "python",
   "name": "python3"
  },
  "language_info": {
   "codemirror_mode": {
    "name": "ipython",
    "version": 3
   },
   "file_extension": ".py",
   "mimetype": "text/x-python",
   "name": "python",
   "nbconvert_exporter": "python",
   "pygments_lexer": "ipython3",
   "version": "3.8.8"
  }
 },
 "nbformat": 4,
 "nbformat_minor": 5
}
